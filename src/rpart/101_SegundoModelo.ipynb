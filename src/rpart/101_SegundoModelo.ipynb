{
 "cells": [
  {
   "cell_type": "code",
   "execution_count": 43,
   "metadata": {
    "collapsed": true,
    "jupyter": {
     "outputs_hidden": true
    }
   },
   "outputs": [
    {
     "name": "stderr",
     "output_type": "stream",
     "text": [
      "\n",
      "Attaching package: ‘dplyr’\n",
      "\n",
      "\n",
      "The following object is masked from ‘package:MASS’:\n",
      "\n",
      "    select\n",
      "\n",
      "\n",
      "The following object is masked from ‘package:xgboost’:\n",
      "\n",
      "    slice\n",
      "\n",
      "\n",
      "The following object is masked from ‘package:randomForest’:\n",
      "\n",
      "    combine\n",
      "\n",
      "\n",
      "The following objects are masked from ‘package:data.table’:\n",
      "\n",
      "    between, first, last\n",
      "\n",
      "\n",
      "The following objects are masked from ‘package:stats’:\n",
      "\n",
      "    filter, lag\n",
      "\n",
      "\n",
      "The following objects are masked from ‘package:base’:\n",
      "\n",
      "    intersect, setdiff, setequal, union\n",
      "\n",
      "\n"
     ]
    }
   ],
   "source": [
    "require(\"data.table\")\n",
    "require(\"rpart\")\n",
    "library(mice)\n",
    "library(imputeTS)\n",
    "library(randomForest)\n",
    "require(xgboost)\n",
    "library(MASS)\n",
    "library(dplyr)"
   ]
  },
  {
   "cell_type": "code",
   "execution_count": 2,
   "metadata": {},
   "outputs": [],
   "source": [
    "#Aqui se debe poner la carpeta de la computadora local\n",
    "setwd(\"/Users/fran/Documents/Maestria/DM\\ en\\ Economia\\ y\\ Finanzas\")  #Establezco el Working Directory"
   ]
  },
  {
   "cell_type": "code",
   "execution_count": 3,
   "metadata": {},
   "outputs": [],
   "source": [
    "dtrain  <- fread(\"./datasetsOri/paquete_premium_202009.csv\")"
   ]
  },
  {
   "cell_type": "markdown",
   "metadata": {},
   "source": [
    "Genero el modelo, llamando a la funcion rpart"
   ]
  },
  {
   "cell_type": "code",
   "execution_count": 13,
   "metadata": {},
   "outputs": [
    {
     "name": "stderr",
     "output_type": "stream",
     "text": [
      "Warning message in stats::StructTS(data, ...):\n",
      "“possible convergence problem: 'optim' gave code = 52 and message ‘ERROR: ABNORMAL_TERMINATION_IN_LNSRCH’”\n",
      "Warning message in stats::StructTS(data, ...):\n",
      "“possible convergence problem: 'optim' gave code = 52 and message ‘ERROR: ABNORMAL_TERMINATION_IN_LNSRCH’”\n",
      "Warning message in stats::StructTS(data, ...):\n",
      "“possible convergence problem: 'optim' gave code = 52 and message ‘ERROR: ABNORMAL_TERMINATION_IN_LNSRCH’”\n",
      "Warning message in stats::StructTS(data, ...):\n",
      "“possible convergence problem: 'optim' gave code = 52 and message ‘ERROR: ABNORMAL_TERMINATION_IN_LNSRCH’”\n",
      "Warning message in stats::StructTS(data, ...):\n",
      "“possible convergence problem: 'optim' gave code = 52 and message ‘ERROR: ABNORMAL_TERMINATION_IN_LNSRCH’”\n",
      "Warning message in stats::StructTS(data, ...):\n",
      "“possible convergence problem: 'optim' gave code = 52 and message ‘ERROR: ABNORMAL_TERMINATION_IN_LNSRCH’”\n",
      "Warning message in stats::StructTS(data, ...):\n",
      "“possible convergence problem: 'optim' gave code = 52 and message ‘ERROR: ABNORMAL_TERMINATION_IN_LNSRCH’”\n",
      "Warning message in stats::StructTS(data, ...):\n",
      "“possible convergence problem: 'optim' gave code = 52 and message ‘ERROR: ABNORMAL_TERMINATION_IN_LNSRCH’”\n",
      "Warning message in stats::StructTS(data, ...):\n",
      "“possible convergence problem: 'optim' gave code = 52 and message ‘ERROR: ABNORMAL_TERMINATION_IN_LNSRCH’”\n",
      "Warning message in stats::StructTS(data, ...):\n",
      "“possible convergence problem: 'optim' gave code = 52 and message ‘ERROR: ABNORMAL_TERMINATION_IN_LNSRCH’”\n",
      "Warning message in stats::StructTS(data, ...):\n",
      "“possible convergence problem: 'optim' gave code = 52 and message ‘ERROR: ABNORMAL_TERMINATION_IN_LNSRCH’”\n",
      "Warning message in stats::StructTS(data, ...):\n",
      "“possible convergence problem: 'optim' gave code = 52 and message ‘ERROR: ABNORMAL_TERMINATION_IN_LNSRCH’”\n",
      "Warning message in stats::StructTS(data, ...):\n",
      "“possible convergence problem: 'optim' gave code = 52 and message ‘ERROR: ABNORMAL_TERMINATION_IN_LNSRCH’”\n",
      "Warning message in stats::StructTS(data, ...):\n",
      "“possible convergence problem: 'optim' gave code = 52 and message ‘ERROR: ABNORMAL_TERMINATION_IN_LNSRCH’”\n"
     ]
    }
   ],
   "source": [
    "#impute it with mice\n",
    "# dtrain_imputed = mice(dtrain, m = 3, print=T)\n",
    "\n",
    "# dtrain_imputed = complete(dtrain_imputed, 1)\n",
    "\n",
    "dtrain_imputed = na_kalman(dtrain)"
   ]
  },
  {
   "cell_type": "code",
   "execution_count": 19,
   "metadata": {},
   "outputs": [],
   "source": [
    "dtrain_imputed_cleaned = dtrain_imputed[, -c('numero_de_cliente', 'foto_mes')]"
   ]
  },
  {
   "cell_type": "code",
   "execution_count": 62,
   "metadata": {},
   "outputs": [],
   "source": [
    "dtrain_imputed_cleaned_scaled = as.data.frame(scale(dtrain_imputed_cleaned[, -c('clase_ternaria')]))"
   ]
  },
  {
   "cell_type": "code",
   "execution_count": 64,
   "metadata": {},
   "outputs": [],
   "source": [
    "dtrain_imputed_cleaned_scaled$clase_ternaria = dtrain_imputed_cleaned$clase_ternaria"
   ]
  },
  {
   "cell_type": "code",
   "execution_count": 66,
   "metadata": {},
   "outputs": [],
   "source": [
    "modelo  <- rpart(\"clase_ternaria ~ .\",\n",
    "                 data = dtrain_imputed_cleaned_scaled,\n",
    "                 xval=0,\n",
    "                 cp=        -0.3, \n",
    "                 minsplit=  100,\n",
    "                 minbucket=   1,\n",
    "                 maxdepth=   10)\n",
    "#                 method='poisson')"
   ]
  },
  {
   "cell_type": "code",
   "execution_count": null,
   "metadata": {},
   "outputs": [],
   "source": [
    "# modelo_rf = randomForest(dtrain_imputed[, -c('clase_ternaria')],\n",
    "#                          as.factor(dtrain_imputed$clase_ternaria),\n",
    "#                          importance = TRUE,\n",
    "#                          proximity = TRUE)"
   ]
  },
  {
   "cell_type": "code",
   "execution_count": null,
   "metadata": {},
   "outputs": [],
   "source": [
    "# labels <- dtrain_imputed$clase_ternaria"
   ]
  },
  {
   "cell_type": "code",
   "execution_count": null,
   "metadata": {},
   "outputs": [],
   "source": [
    "# labels <- as.numeric(dtrain_imputed$clase_ternaria) - 1 \n",
    "# new_tr <- model.matrix(~.+0,data = dtrain_imputed[,-c(\"clase_ternaria\"),with=F]) "
   ]
  },
  {
   "cell_type": "code",
   "execution_count": null,
   "metadata": {},
   "outputs": [],
   "source": [
    "# dtrain <- xgb.DMatrix(data=new_tr,\n",
    "#                       label=labels)"
   ]
  },
  {
   "cell_type": "code",
   "execution_count": null,
   "metadata": {},
   "outputs": [],
   "source": [
    "# params <- list(booster = \"gbtree\", \n",
    "#                objective = \"multi:softmax\", \n",
    "#                num_class = 3, \n",
    "#                eval_metric = \"mlogloss\")"
   ]
  },
  {
   "cell_type": "code",
   "execution_count": null,
   "metadata": {},
   "outputs": [],
   "source": [
    "# xgbcv <- xgb.cv(params = params, \n",
    "#                 data = dtrain, \n",
    "#                 nrounds = 10, \n",
    "#                 nfold = 2, \n",
    "#                 showsd = TRUE, \n",
    "#                 stratified = TRUE, print_every_n = 10, early_stop_round = 20, maximize = FALSE, prediction = TRUE)"
   ]
  },
  {
   "cell_type": "code",
   "execution_count": null,
   "metadata": {},
   "outputs": [],
   "source": [
    "# xgb_model <- xgb.train(params=params, \n",
    "#                        data=dtrain, \n",
    "#                        nrounds=10, \n",
    "# #                        stratified=TRUE,\n",
    "#                        print_every_n=3,\n",
    "# #                        early_stop_round=20,\n",
    "#                        maximize=FALSE)\n",
    "# #                        prediction=TRUE)"
   ]
  },
  {
   "cell_type": "code",
   "execution_count": 67,
   "metadata": {},
   "outputs": [],
   "source": [
    "dapply  <- fread(\"./datasetsOri/paquete_premium_202011.csv\")"
   ]
  },
  {
   "cell_type": "code",
   "execution_count": 68,
   "metadata": {},
   "outputs": [
    {
     "name": "stderr",
     "output_type": "stream",
     "text": [
      "Warning message in stats::StructTS(data, ...):\n",
      "“possible convergence problem: 'optim' gave code = 52 and message ‘ERROR: ABNORMAL_TERMINATION_IN_LNSRCH’”\n",
      "Warning message in stats::StructTS(data, ...):\n",
      "“possible convergence problem: 'optim' gave code = 52 and message ‘ERROR: ABNORMAL_TERMINATION_IN_LNSRCH’”\n",
      "Warning message in stats::StructTS(data, ...):\n",
      "“possible convergence problem: 'optim' gave code = 52 and message ‘ERROR: ABNORMAL_TERMINATION_IN_LNSRCH’”\n",
      "Warning message in stats::StructTS(data, ...):\n",
      "“possible convergence problem: 'optim' gave code = 52 and message ‘ERROR: ABNORMAL_TERMINATION_IN_LNSRCH’”\n",
      "Warning message in stats::StructTS(data, ...):\n",
      "“possible convergence problem: 'optim' gave code = 52 and message ‘ERROR: ABNORMAL_TERMINATION_IN_LNSRCH’”\n",
      "Warning message in stats::StructTS(data, ...):\n",
      "“possible convergence problem: 'optim' gave code = 52 and message ‘ERROR: ABNORMAL_TERMINATION_IN_LNSRCH’”\n",
      "Warning message in stats::StructTS(data, ...):\n",
      "“possible convergence problem: 'optim' gave code = 52 and message ‘ERROR: ABNORMAL_TERMINATION_IN_LNSRCH’”\n",
      "Warning message in stats::StructTS(data, ...):\n",
      "“possible convergence problem: 'optim' gave code = 52 and message ‘ERROR: ABNORMAL_TERMINATION_IN_LNSRCH’”\n",
      "Warning message in stats::StructTS(data, ...):\n",
      "“possible convergence problem: 'optim' gave code = 52 and message ‘ERROR: ABNORMAL_TERMINATION_IN_LNSRCH’”\n",
      "Warning message in stats::StructTS(data, ...):\n",
      "“possible convergence problem: 'optim' gave code = 52 and message ‘ERROR: ABNORMAL_TERMINATION_IN_LNSRCH’”\n",
      "Warning message in stats::StructTS(data, ...):\n",
      "“possible convergence problem: 'optim' gave code = 52 and message ‘ERROR: ABNORMAL_TERMINATION_IN_LNSRCH’”\n",
      "Warning message in stats::StructTS(data, ...):\n",
      "“possible convergence problem: 'optim' gave code = 52 and message ‘ERROR: ABNORMAL_TERMINATION_IN_LNSRCH’”\n",
      "Warning message in stats::StructTS(data, ...):\n",
      "“possible convergence problem: 'optim' gave code = 52 and message ‘ERROR: ABNORMAL_TERMINATION_IN_LNSRCH’”\n",
      "Warning message in stats::StructTS(data, ...):\n",
      "“possible convergence problem: 'optim' gave code = 52 and message ‘ERROR: ABNORMAL_TERMINATION_IN_LNSRCH’”\n",
      "Warning message in stats::StructTS(data, ...):\n",
      "“possible convergence problem: 'optim' gave code = 52 and message ‘ERROR: ABNORMAL_TERMINATION_IN_LNSRCH’”\n",
      "Warning message in stats::StructTS(data, ...):\n",
      "“possible convergence problem: 'optim' gave code = 52 and message ‘ERROR: ABNORMAL_TERMINATION_IN_LNSRCH’”\n",
      "Warning message in stats::StructTS(data, ...):\n",
      "“possible convergence problem: 'optim' gave code = 52 and message ‘ERROR: ABNORMAL_TERMINATION_IN_LNSRCH’”\n",
      "Warning message in stats::StructTS(data, ...):\n",
      "“possible convergence problem: 'optim' gave code = 52 and message ‘ERROR: ABNORMAL_TERMINATION_IN_LNSRCH’”\n",
      "Warning message in stats::StructTS(data, ...):\n",
      "“possible convergence problem: 'optim' gave code = 52 and message ‘ERROR: ABNORMAL_TERMINATION_IN_LNSRCH’”\n"
     ]
    }
   ],
   "source": [
    "dapply_imputed = na_kalman(dapply[, -c('clase_ternaria')], 'StructTS')"
   ]
  },
  {
   "cell_type": "code",
   "execution_count": 69,
   "metadata": {},
   "outputs": [
    {
     "name": "stderr",
     "output_type": "stream",
     "text": [
      "Warning message in `[.data.table`(dapply_imputed_cleaned, , -c(\"clase_ternaria\")):\n",
      "“column(s) not removed because not found: [clase_ternaria]”\n"
     ]
    }
   ],
   "source": [
    "dapply_imputed_cleaned = dapply_imputed[, -c('numero_de_cliente', 'foto_mes')]\n",
    "dtrain_imputed_cleaned_scaled = as.data.frame(scale(dapply_imputed_cleaned[, -c('clase_ternaria')]))"
   ]
  },
  {
   "cell_type": "code",
   "execution_count": null,
   "metadata": {},
   "outputs": [],
   "source": [
    "# xgb_val_preds <- predict(xgb_model, xgb.DMatrix(as.matrix(dapply[, -c('clase_ternaria')])))"
   ]
  },
  {
   "cell_type": "code",
   "execution_count": null,
   "metadata": {},
   "outputs": [],
   "source": [
    "# table(round(xgb_val_preds, 3))"
   ]
  },
  {
   "cell_type": "markdown",
   "metadata": {},
   "source": [
    "Aplico el modelo generado que esta en la variable \"modelo\" a los datos \"dapply\"\n"
   ]
  },
  {
   "cell_type": "code",
   "execution_count": 70,
   "metadata": {},
   "outputs": [],
   "source": [
    "prediccion_modelo  <- predict( modelo, dtrain_imputed_cleaned_scaled, type = \"prob\") # aplico el modelo\n",
    "# prediccion  <- predict( model_rf, dapply) # aplico el modelo\n",
    "# tt = xgb.DMatrix(as.matrix(dapply_imputed))\n",
    "# prediccion <- predict(bstSparse, tt) # aplico el modelo"
   ]
  },
  {
   "cell_type": "markdown",
   "metadata": {},
   "source": [
    "prediccion es una matriz con TRES columnas, llamadas \"BAJA+1\", \"BAJA+2\" y \"CONTINUA\" cada columna es el vector de probabilidades\n"
   ]
  },
  {
   "cell_type": "code",
   "execution_count": 71,
   "metadata": {},
   "outputs": [],
   "source": [
    "dapply[ , prob_baja2 := prediccion_modelo[, \"BAJA+2\"] ]\n",
    "dapply[ , Predicted  := as.numeric(prob_baja2 > 0.025) ]"
   ]
  },
  {
   "cell_type": "code",
   "execution_count": 72,
   "metadata": {},
   "outputs": [],
   "source": [
    "entrega  <- dapply[   , list(numero_de_cliente, Predicted) ] #genero la salida\n",
    "\n",
    "#genero el archivo para Kaggle\n",
    "fwrite( entrega, file=\"./kaggle/K101_002_first_model.csv\", sep=\",\" )"
   ]
  },
  {
   "cell_type": "code",
   "execution_count": null,
   "metadata": {},
   "outputs": [],
   "source": []
  },
  {
   "cell_type": "code",
   "execution_count": null,
   "metadata": {},
   "outputs": [],
   "source": []
  }
 ],
 "metadata": {
  "kernelspec": {
   "display_name": "R",
   "language": "R",
   "name": "ir"
  },
  "language_info": {
   "codemirror_mode": "r",
   "file_extension": ".r",
   "mimetype": "text/x-r-source",
   "name": "R",
   "pygments_lexer": "r",
   "version": "4.0.4"
  }
 },
 "nbformat": 4,
 "nbformat_minor": 4
}
